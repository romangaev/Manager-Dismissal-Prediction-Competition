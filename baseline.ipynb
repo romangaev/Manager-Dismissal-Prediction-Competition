{
 "cells": [
  {
   "cell_type": "code",
   "execution_count": 1,
   "metadata": {},
   "outputs": [],
   "source": [
    "import pandas as pd\n",
    "import gc\n",
    "import numpy as np\n",
    "import tqdm\n",
    "\n",
    "from matplotlib import pyplot as plt\n",
    "from sklearn.metrics import roc_auc_score\n",
    "%matplotlib inline"
   ]
  },
  {
   "cell_type": "markdown",
   "metadata": {},
   "source": [
    "Подгрузим train данные."
   ]
  },
  {
   "cell_type": "code",
   "execution_count": 2,
   "metadata": {},
   "outputs": [
    {
     "name": "stderr",
     "output_type": "stream",
     "text": [
      "C:\\Installed\\Anaconda3_v531\\lib\\site-packages\\IPython\\core\\interactiveshell.py:3020: DtypeWarning: Columns (0,2) have mixed types. Specify dtype option on import or set low_memory=False.\n",
      "  interactivity=interactivity, compiler=compiler, result=result)\n"
     ]
    }
   ],
   "source": [
    "train = pd.read_csv('train.csv')"
   ]
  },
  {
   "cell_type": "code",
   "execution_count": 3,
   "metadata": {},
   "outputs": [
    {
     "data": {
      "text/html": [
       "<div>\n",
       "<style scoped>\n",
       "    .dataframe tbody tr th:only-of-type {\n",
       "        vertical-align: middle;\n",
       "    }\n",
       "\n",
       "    .dataframe tbody tr th {\n",
       "        vertical-align: top;\n",
       "    }\n",
       "\n",
       "    .dataframe thead th {\n",
       "        text-align: right;\n",
       "    }\n",
       "</style>\n",
       "<table border=\"1\" class=\"dataframe\">\n",
       "  <thead>\n",
       "    <tr style=\"text-align: right;\">\n",
       "      <th></th>\n",
       "      <th>C_Year</th>\n",
       "      <th>EtalonPosName</th>\n",
       "      <th>R_Year</th>\n",
       "      <th>age_qty</th>\n",
       "      <th>boss_pos_name</th>\n",
       "      <th>boss_subord_1y_max_qty</th>\n",
       "      <th>boss_subord_1y_min_qty</th>\n",
       "      <th>boss_subord_in_1m_qty</th>\n",
       "      <th>boss_subord_in_1y_qty</th>\n",
       "      <th>boss_subord_out_1m_qty</th>\n",
       "      <th>...</th>\n",
       "      <th>up_day_nv_sum_3m</th>\n",
       "      <th>up_day_nv_sum_6m</th>\n",
       "      <th>vl_nv_KBP_sum_3m</th>\n",
       "      <th>vl_nv_KBP_sum_6m</th>\n",
       "      <th>vl_nv_MP_sum_3m</th>\n",
       "      <th>vl_nv_MP_sum_6m</th>\n",
       "      <th>vl_nv_sum_3m</th>\n",
       "      <th>vl_nv_sum_6m</th>\n",
       "      <th>vsp_cd</th>\n",
       "      <th>work_rate_pct</th>\n",
       "    </tr>\n",
       "  </thead>\n",
       "  <tbody>\n",
       "    <tr>\n",
       "      <th>0</th>\n",
       "      <td>NaN</td>\n",
       "      <td>0.0</td>\n",
       "      <td>NaN</td>\n",
       "      <td>27.0</td>\n",
       "      <td>0.0</td>\n",
       "      <td>28.0</td>\n",
       "      <td>0.0</td>\n",
       "      <td>1.0</td>\n",
       "      <td>29.0</td>\n",
       "      <td>1.0</td>\n",
       "      <td>...</td>\n",
       "      <td>0.0</td>\n",
       "      <td>0.0</td>\n",
       "      <td>0.0</td>\n",
       "      <td>0.0</td>\n",
       "      <td>0.0</td>\n",
       "      <td>NaN</td>\n",
       "      <td>0.0</td>\n",
       "      <td>0.0</td>\n",
       "      <td>0</td>\n",
       "      <td>1.0</td>\n",
       "    </tr>\n",
       "    <tr>\n",
       "      <th>1</th>\n",
       "      <td>C</td>\n",
       "      <td>0.0</td>\n",
       "      <td>C</td>\n",
       "      <td>24.0</td>\n",
       "      <td>0.0</td>\n",
       "      <td>31.0</td>\n",
       "      <td>26.0</td>\n",
       "      <td>2.0</td>\n",
       "      <td>23.0</td>\n",
       "      <td>2.0</td>\n",
       "      <td>...</td>\n",
       "      <td>0.0</td>\n",
       "      <td>0.0</td>\n",
       "      <td>0.0</td>\n",
       "      <td>0.0</td>\n",
       "      <td>0.0</td>\n",
       "      <td>0.0</td>\n",
       "      <td>0.0</td>\n",
       "      <td>0.0</td>\n",
       "      <td>1</td>\n",
       "      <td>1.0</td>\n",
       "    </tr>\n",
       "    <tr>\n",
       "      <th>2</th>\n",
       "      <td>D</td>\n",
       "      <td>0.0</td>\n",
       "      <td>C</td>\n",
       "      <td>52.0</td>\n",
       "      <td>0.0</td>\n",
       "      <td>31.0</td>\n",
       "      <td>26.0</td>\n",
       "      <td>1.0</td>\n",
       "      <td>19.0</td>\n",
       "      <td>2.0</td>\n",
       "      <td>...</td>\n",
       "      <td>0.0</td>\n",
       "      <td>0.0</td>\n",
       "      <td>0.0</td>\n",
       "      <td>0.0</td>\n",
       "      <td>0.0</td>\n",
       "      <td>0.0</td>\n",
       "      <td>0.0</td>\n",
       "      <td>0.0</td>\n",
       "      <td>2</td>\n",
       "      <td>1.0</td>\n",
       "    </tr>\n",
       "    <tr>\n",
       "      <th>3</th>\n",
       "      <td>NaN</td>\n",
       "      <td>0.0</td>\n",
       "      <td>NaN</td>\n",
       "      <td>28.0</td>\n",
       "      <td>0.0</td>\n",
       "      <td>15.0</td>\n",
       "      <td>14.0</td>\n",
       "      <td>2.0</td>\n",
       "      <td>3.0</td>\n",
       "      <td>2.0</td>\n",
       "      <td>...</td>\n",
       "      <td>0.0</td>\n",
       "      <td>0.0</td>\n",
       "      <td>0.0</td>\n",
       "      <td>0.0</td>\n",
       "      <td>0.0</td>\n",
       "      <td>0.0</td>\n",
       "      <td>0.0</td>\n",
       "      <td>0.0</td>\n",
       "      <td>3</td>\n",
       "      <td>1.0</td>\n",
       "    </tr>\n",
       "    <tr>\n",
       "      <th>4</th>\n",
       "      <td>NaN</td>\n",
       "      <td>0.0</td>\n",
       "      <td>NaN</td>\n",
       "      <td>25.0</td>\n",
       "      <td>0.0</td>\n",
       "      <td>13.0</td>\n",
       "      <td>12.0</td>\n",
       "      <td>0.0</td>\n",
       "      <td>5.0</td>\n",
       "      <td>1.0</td>\n",
       "      <td>...</td>\n",
       "      <td>0.0</td>\n",
       "      <td>0.0</td>\n",
       "      <td>0.0</td>\n",
       "      <td>0.0</td>\n",
       "      <td>0.0</td>\n",
       "      <td>NaN</td>\n",
       "      <td>0.0</td>\n",
       "      <td>0.0</td>\n",
       "      <td>4</td>\n",
       "      <td>1.0</td>\n",
       "    </tr>\n",
       "  </tbody>\n",
       "</table>\n",
       "<p>5 rows × 397 columns</p>\n",
       "</div>"
      ],
      "text/plain": [
       "  C_Year  EtalonPosName R_Year  age_qty  boss_pos_name  \\\n",
       "0    NaN            0.0    NaN     27.0            0.0   \n",
       "1      C            0.0      C     24.0            0.0   \n",
       "2      D            0.0      C     52.0            0.0   \n",
       "3    NaN            0.0    NaN     28.0            0.0   \n",
       "4    NaN            0.0    NaN     25.0            0.0   \n",
       "\n",
       "   boss_subord_1y_max_qty  boss_subord_1y_min_qty  boss_subord_in_1m_qty  \\\n",
       "0                    28.0                     0.0                    1.0   \n",
       "1                    31.0                    26.0                    2.0   \n",
       "2                    31.0                    26.0                    1.0   \n",
       "3                    15.0                    14.0                    2.0   \n",
       "4                    13.0                    12.0                    0.0   \n",
       "\n",
       "   boss_subord_in_1y_qty  boss_subord_out_1m_qty      ...        \\\n",
       "0                   29.0                     1.0      ...         \n",
       "1                   23.0                     2.0      ...         \n",
       "2                   19.0                     2.0      ...         \n",
       "3                    3.0                     2.0      ...         \n",
       "4                    5.0                     1.0      ...         \n",
       "\n",
       "   up_day_nv_sum_3m  up_day_nv_sum_6m  vl_nv_KBP_sum_3m  vl_nv_KBP_sum_6m  \\\n",
       "0               0.0               0.0               0.0               0.0   \n",
       "1               0.0               0.0               0.0               0.0   \n",
       "2               0.0               0.0               0.0               0.0   \n",
       "3               0.0               0.0               0.0               0.0   \n",
       "4               0.0               0.0               0.0               0.0   \n",
       "\n",
       "   vl_nv_MP_sum_3m  vl_nv_MP_sum_6m  vl_nv_sum_3m  vl_nv_sum_6m  vsp_cd  \\\n",
       "0              0.0              NaN           0.0           0.0       0   \n",
       "1              0.0              0.0           0.0           0.0       1   \n",
       "2              0.0              0.0           0.0           0.0       2   \n",
       "3              0.0              0.0           0.0           0.0       3   \n",
       "4              0.0              NaN           0.0           0.0       4   \n",
       "\n",
       "   work_rate_pct  \n",
       "0            1.0  \n",
       "1            1.0  \n",
       "2            1.0  \n",
       "3            1.0  \n",
       "4            1.0  \n",
       "\n",
       "[5 rows x 397 columns]"
      ]
     },
     "execution_count": 3,
     "metadata": {},
     "output_type": "execute_result"
    }
   ],
   "source": [
    "train.head()"
   ]
  },
  {
   "cell_type": "markdown",
   "metadata": {},
   "source": [
    "Подгрузим test данные."
   ]
  },
  {
   "cell_type": "code",
   "execution_count": 4,
   "metadata": {},
   "outputs": [],
   "source": [
    "test = pd.read_csv('test.csv')"
   ]
  },
  {
   "cell_type": "code",
   "execution_count": 5,
   "metadata": {},
   "outputs": [
    {
     "data": {
      "text/html": [
       "<div>\n",
       "<style scoped>\n",
       "    .dataframe tbody tr th:only-of-type {\n",
       "        vertical-align: middle;\n",
       "    }\n",
       "\n",
       "    .dataframe tbody tr th {\n",
       "        vertical-align: top;\n",
       "    }\n",
       "\n",
       "    .dataframe thead th {\n",
       "        text-align: right;\n",
       "    }\n",
       "</style>\n",
       "<table border=\"1\" class=\"dataframe\">\n",
       "  <thead>\n",
       "    <tr style=\"text-align: right;\">\n",
       "      <th></th>\n",
       "      <th>C_Year</th>\n",
       "      <th>EtalonPosName</th>\n",
       "      <th>R_Year</th>\n",
       "      <th>age_qty</th>\n",
       "      <th>boss_pos_name</th>\n",
       "      <th>boss_subord_1y_max_qty</th>\n",
       "      <th>boss_subord_1y_min_qty</th>\n",
       "      <th>boss_subord_in_1m_qty</th>\n",
       "      <th>boss_subord_in_1y_qty</th>\n",
       "      <th>boss_subord_out_1m_qty</th>\n",
       "      <th>...</th>\n",
       "      <th>up_day_nv_sum_3m</th>\n",
       "      <th>up_day_nv_sum_6m</th>\n",
       "      <th>vl_nv_KBP_sum_3m</th>\n",
       "      <th>vl_nv_KBP_sum_6m</th>\n",
       "      <th>vl_nv_MP_sum_3m</th>\n",
       "      <th>vl_nv_MP_sum_6m</th>\n",
       "      <th>vl_nv_sum_3m</th>\n",
       "      <th>vl_nv_sum_6m</th>\n",
       "      <th>vsp_cd</th>\n",
       "      <th>work_rate_pct</th>\n",
       "    </tr>\n",
       "  </thead>\n",
       "  <tbody>\n",
       "    <tr>\n",
       "      <th>0</th>\n",
       "      <td>C</td>\n",
       "      <td>0.0</td>\n",
       "      <td>C</td>\n",
       "      <td>45.0</td>\n",
       "      <td>0.0</td>\n",
       "      <td>21.0</td>\n",
       "      <td>17.0</td>\n",
       "      <td>0.0</td>\n",
       "      <td>5.0</td>\n",
       "      <td>0.0</td>\n",
       "      <td>...</td>\n",
       "      <td>0.0</td>\n",
       "      <td>0.0</td>\n",
       "      <td>0.0</td>\n",
       "      <td>0.0</td>\n",
       "      <td>0.0</td>\n",
       "      <td>0.0</td>\n",
       "      <td>0.0</td>\n",
       "      <td>0.0</td>\n",
       "      <td>196</td>\n",
       "      <td>1.0</td>\n",
       "    </tr>\n",
       "    <tr>\n",
       "      <th>1</th>\n",
       "      <td>B</td>\n",
       "      <td>0.0</td>\n",
       "      <td>B</td>\n",
       "      <td>26.0</td>\n",
       "      <td>0.0</td>\n",
       "      <td>27.0</td>\n",
       "      <td>24.0</td>\n",
       "      <td>1.0</td>\n",
       "      <td>9.0</td>\n",
       "      <td>1.0</td>\n",
       "      <td>...</td>\n",
       "      <td>0.0</td>\n",
       "      <td>0.0</td>\n",
       "      <td>0.0</td>\n",
       "      <td>0.0</td>\n",
       "      <td>0.0</td>\n",
       "      <td>0.0</td>\n",
       "      <td>0.0</td>\n",
       "      <td>0.0</td>\n",
       "      <td>681</td>\n",
       "      <td>1.0</td>\n",
       "    </tr>\n",
       "    <tr>\n",
       "      <th>2</th>\n",
       "      <td>NaN</td>\n",
       "      <td>0.0</td>\n",
       "      <td>NaN</td>\n",
       "      <td>26.0</td>\n",
       "      <td>0.0</td>\n",
       "      <td>20.0</td>\n",
       "      <td>18.0</td>\n",
       "      <td>0.0</td>\n",
       "      <td>11.0</td>\n",
       "      <td>0.0</td>\n",
       "      <td>...</td>\n",
       "      <td>0.0</td>\n",
       "      <td>0.0</td>\n",
       "      <td>0.0</td>\n",
       "      <td>0.0</td>\n",
       "      <td>0.0</td>\n",
       "      <td>NaN</td>\n",
       "      <td>0.0</td>\n",
       "      <td>0.0</td>\n",
       "      <td>1175</td>\n",
       "      <td>1.0</td>\n",
       "    </tr>\n",
       "    <tr>\n",
       "      <th>3</th>\n",
       "      <td>NaN</td>\n",
       "      <td>0.0</td>\n",
       "      <td>NaN</td>\n",
       "      <td>33.0</td>\n",
       "      <td>0.0</td>\n",
       "      <td>59.0</td>\n",
       "      <td>52.0</td>\n",
       "      <td>3.0</td>\n",
       "      <td>33.0</td>\n",
       "      <td>2.0</td>\n",
       "      <td>...</td>\n",
       "      <td>0.0</td>\n",
       "      <td>0.0</td>\n",
       "      <td>0.0</td>\n",
       "      <td>0.0</td>\n",
       "      <td>NaN</td>\n",
       "      <td>NaN</td>\n",
       "      <td>0.0</td>\n",
       "      <td>0.0</td>\n",
       "      <td>485</td>\n",
       "      <td>1.0</td>\n",
       "    </tr>\n",
       "    <tr>\n",
       "      <th>4</th>\n",
       "      <td>C</td>\n",
       "      <td>0.0</td>\n",
       "      <td>C</td>\n",
       "      <td>25.0</td>\n",
       "      <td>1.0</td>\n",
       "      <td>19.0</td>\n",
       "      <td>0.0</td>\n",
       "      <td>1.0</td>\n",
       "      <td>25.0</td>\n",
       "      <td>1.0</td>\n",
       "      <td>...</td>\n",
       "      <td>0.0</td>\n",
       "      <td>0.0</td>\n",
       "      <td>0.0</td>\n",
       "      <td>0.0</td>\n",
       "      <td>0.0</td>\n",
       "      <td>0.0</td>\n",
       "      <td>0.0</td>\n",
       "      <td>0.0</td>\n",
       "      <td>366</td>\n",
       "      <td>1.0</td>\n",
       "    </tr>\n",
       "  </tbody>\n",
       "</table>\n",
       "<p>5 rows × 396 columns</p>\n",
       "</div>"
      ],
      "text/plain": [
       "  C_Year  EtalonPosName R_Year  age_qty  boss_pos_name  \\\n",
       "0      C            0.0      C     45.0            0.0   \n",
       "1      B            0.0      B     26.0            0.0   \n",
       "2    NaN            0.0    NaN     26.0            0.0   \n",
       "3    NaN            0.0    NaN     33.0            0.0   \n",
       "4      C            0.0      C     25.0            1.0   \n",
       "\n",
       "   boss_subord_1y_max_qty  boss_subord_1y_min_qty  boss_subord_in_1m_qty  \\\n",
       "0                    21.0                    17.0                    0.0   \n",
       "1                    27.0                    24.0                    1.0   \n",
       "2                    20.0                    18.0                    0.0   \n",
       "3                    59.0                    52.0                    3.0   \n",
       "4                    19.0                     0.0                    1.0   \n",
       "\n",
       "   boss_subord_in_1y_qty  boss_subord_out_1m_qty      ...        \\\n",
       "0                    5.0                     0.0      ...         \n",
       "1                    9.0                     1.0      ...         \n",
       "2                   11.0                     0.0      ...         \n",
       "3                   33.0                     2.0      ...         \n",
       "4                   25.0                     1.0      ...         \n",
       "\n",
       "   up_day_nv_sum_3m  up_day_nv_sum_6m  vl_nv_KBP_sum_3m  vl_nv_KBP_sum_6m  \\\n",
       "0               0.0               0.0               0.0               0.0   \n",
       "1               0.0               0.0               0.0               0.0   \n",
       "2               0.0               0.0               0.0               0.0   \n",
       "3               0.0               0.0               0.0               0.0   \n",
       "4               0.0               0.0               0.0               0.0   \n",
       "\n",
       "   vl_nv_MP_sum_3m  vl_nv_MP_sum_6m  vl_nv_sum_3m  vl_nv_sum_6m  vsp_cd  \\\n",
       "0              0.0              0.0           0.0           0.0     196   \n",
       "1              0.0              0.0           0.0           0.0     681   \n",
       "2              0.0              NaN           0.0           0.0    1175   \n",
       "3              NaN              NaN           0.0           0.0     485   \n",
       "4              0.0              0.0           0.0           0.0     366   \n",
       "\n",
       "   work_rate_pct  \n",
       "0            1.0  \n",
       "1            1.0  \n",
       "2            1.0  \n",
       "3            1.0  \n",
       "4            1.0  \n",
       "\n",
       "[5 rows x 396 columns]"
      ]
     },
     "execution_count": 5,
     "metadata": {},
     "output_type": "execute_result"
    }
   ],
   "source": [
    "test.head()"
   ]
  },
  {
   "cell_type": "markdown",
   "metadata": {},
   "source": [
    "В файле use_columns находятся описания фичей. ВНИМАНИЕ: не у всех фичей есть описания, обычно это числовые агрегаты каких то функций за определенный промежуток времени."
   ]
  },
  {
   "cell_type": "code",
   "execution_count": 6,
   "metadata": {},
   "outputs": [],
   "source": [
    "feature_description = pd.read_excel('columns_description.xlsx')"
   ]
  },
  {
   "cell_type": "code",
   "execution_count": 7,
   "metadata": {
    "scrolled": true
   },
   "outputs": [
    {
     "data": {
      "text/html": [
       "<div>\n",
       "<style scoped>\n",
       "    .dataframe tbody tr th:only-of-type {\n",
       "        vertical-align: middle;\n",
       "    }\n",
       "\n",
       "    .dataframe tbody tr th {\n",
       "        vertical-align: top;\n",
       "    }\n",
       "\n",
       "    .dataframe thead th {\n",
       "        text-align: right;\n",
       "    }\n",
       "</style>\n",
       "<table border=\"1\" class=\"dataframe\">\n",
       "  <thead>\n",
       "    <tr style=\"text-align: right;\">\n",
       "      <th></th>\n",
       "      <th>name</th>\n",
       "      <th>description</th>\n",
       "    </tr>\n",
       "  </thead>\n",
       "  <tbody>\n",
       "    <tr>\n",
       "      <th>0</th>\n",
       "      <td>C_Year</td>\n",
       "      <td>NaN</td>\n",
       "    </tr>\n",
       "    <tr>\n",
       "      <th>1</th>\n",
       "      <td>EtalonPosName</td>\n",
       "      <td>NaN</td>\n",
       "    </tr>\n",
       "    <tr>\n",
       "      <th>2</th>\n",
       "      <td>R_Year</td>\n",
       "      <td>NaN</td>\n",
       "    </tr>\n",
       "    <tr>\n",
       "      <th>3</th>\n",
       "      <td>age_qty</td>\n",
       "      <td>Возраст сотрудника (должно стать вычисляемым п...</td>\n",
       "    </tr>\n",
       "    <tr>\n",
       "      <th>4</th>\n",
       "      <td>boss_pos_name</td>\n",
       "      <td>Название должности непосредственного руководит...</td>\n",
       "    </tr>\n",
       "  </tbody>\n",
       "</table>\n",
       "</div>"
      ],
      "text/plain": [
       "            name                                        description\n",
       "0         C_Year                                                NaN\n",
       "1  EtalonPosName                                                NaN\n",
       "2         R_Year                                                NaN\n",
       "3        age_qty  Возраст сотрудника (должно стать вычисляемым п...\n",
       "4  boss_pos_name  Название должности непосредственного руководит..."
      ]
     },
     "execution_count": 7,
     "metadata": {},
     "output_type": "execute_result"
    }
   ],
   "source": [
    "feature_description.head()"
   ]
  },
  {
   "cell_type": "markdown",
   "metadata": {},
   "source": [
    "Дополнительные данные - это информация по логинам клиентов. Их можно использовать на ваше усмотрение. Пересечение с основными данными (train/test) идет через поле **tabnum**."
   ]
  },
  {
   "cell_type": "code",
   "execution_count": 8,
   "metadata": {},
   "outputs": [],
   "source": [
    "logins = pd.read_csv('valid_logins.csv')"
   ]
  },
  {
   "cell_type": "code",
   "execution_count": 9,
   "metadata": {},
   "outputs": [
    {
     "data": {
      "text/html": [
       "<div>\n",
       "<style scoped>\n",
       "    .dataframe tbody tr th:only-of-type {\n",
       "        vertical-align: middle;\n",
       "    }\n",
       "\n",
       "    .dataframe tbody tr th {\n",
       "        vertical-align: top;\n",
       "    }\n",
       "\n",
       "    .dataframe thead th {\n",
       "        text-align: right;\n",
       "    }\n",
       "</style>\n",
       "<table border=\"1\" class=\"dataframe\">\n",
       "  <thead>\n",
       "    <tr style=\"text-align: right;\">\n",
       "      <th></th>\n",
       "      <th>business_dt</th>\n",
       "      <th>tabnum</th>\n",
       "      <th>work_time_day</th>\n",
       "      <th>work_begins</th>\n",
       "      <th>work_ends</th>\n",
       "    </tr>\n",
       "  </thead>\n",
       "  <tbody>\n",
       "    <tr>\n",
       "      <th>0</th>\n",
       "      <td>2017-06-13</td>\n",
       "      <td>0</td>\n",
       "      <td>423</td>\n",
       "      <td>18:40:44</td>\n",
       "      <td>19:02:28</td>\n",
       "    </tr>\n",
       "    <tr>\n",
       "      <th>1</th>\n",
       "      <td>2018-10-23</td>\n",
       "      <td>0</td>\n",
       "      <td>30652</td>\n",
       "      <td>09:00:27</td>\n",
       "      <td>18:59:51</td>\n",
       "    </tr>\n",
       "    <tr>\n",
       "      <th>2</th>\n",
       "      <td>2017-06-22</td>\n",
       "      <td>0</td>\n",
       "      <td>1724</td>\n",
       "      <td>18:57:29</td>\n",
       "      <td>19:36:28</td>\n",
       "    </tr>\n",
       "    <tr>\n",
       "      <th>3</th>\n",
       "      <td>2017-04-29</td>\n",
       "      <td>0</td>\n",
       "      <td>1934</td>\n",
       "      <td>12:25:34</td>\n",
       "      <td>17:20:21</td>\n",
       "    </tr>\n",
       "    <tr>\n",
       "      <th>4</th>\n",
       "      <td>2018-06-10</td>\n",
       "      <td>0</td>\n",
       "      <td>4920</td>\n",
       "      <td>11:42:39</td>\n",
       "      <td>17:24:23</td>\n",
       "    </tr>\n",
       "  </tbody>\n",
       "</table>\n",
       "</div>"
      ],
      "text/plain": [
       "  business_dt  tabnum  work_time_day work_begins work_ends\n",
       "0  2017-06-13       0            423    18:40:44  19:02:28\n",
       "1  2018-10-23       0          30652    09:00:27  18:59:51\n",
       "2  2017-06-22       0           1724    18:57:29  19:36:28\n",
       "3  2017-04-29       0           1934    12:25:34  17:20:21\n",
       "4  2018-06-10       0           4920    11:42:39  17:24:23"
      ]
     },
     "execution_count": 9,
     "metadata": {},
     "output_type": "execute_result"
    }
   ],
   "source": [
    "logins.head()"
   ]
  },
  {
   "cell_type": "markdown",
   "metadata": {},
   "source": [
    "В бэйзлайне никакой обработки фичей не производится. Для датасетов train/test удаляются dt фичи(временные). Каждую колонку пытаемся привести к числовому типу, если не получается - заполняем NaN. Соответственно, модель для примера  будет обучаться без любых временных и категориальных фичей."
   ]
  },
  {
   "cell_type": "code",
   "execution_count": 10,
   "metadata": {},
   "outputs": [
    {
     "data": {
      "application/vnd.jupyter.widget-view+json": {
       "model_id": "39e52ea0e1c8421f99d2cf1c275d5e53",
       "version_major": 2,
       "version_minor": 0
      },
      "text/plain": [
       "HBox(children=(IntProgress(value=0, max=392), HTML(value='')))"
      ]
     },
     "metadata": {},
     "output_type": "display_data"
    },
    {
     "name": "stdout",
     "output_type": "stream",
     "text": [
      "\n",
      "(449576, 392)\n"
     ]
    }
   ],
   "source": [
    "train.drop([i for i in train.columns if 'dt' in i],axis=1,inplace=True)\n",
    "for i in tqdm.tqdm_notebook(train.columns):\n",
    "    train[i] = pd.to_numeric(train[i],errors='coerce')\n",
    "print(train.shape)"
   ]
  },
  {
   "cell_type": "code",
   "execution_count": 11,
   "metadata": {},
   "outputs": [
    {
     "data": {
      "application/vnd.jupyter.widget-view+json": {
       "model_id": "d739dc9f72ac492187bc94f46f357cc5",
       "version_major": 2,
       "version_minor": 0
      },
      "text/plain": [
       "HBox(children=(IntProgress(value=0, max=391), HTML(value='')))"
      ]
     },
     "metadata": {},
     "output_type": "display_data"
    },
    {
     "name": "stdout",
     "output_type": "stream",
     "text": [
      "\n",
      "(24000, 391)\n"
     ]
    }
   ],
   "source": [
    "test.drop([i for i in test.columns if 'dt' in i],axis=1,inplace=True)\n",
    "for i in tqdm.tqdm_notebook(test.columns):\n",
    "    test[i] = pd.to_numeric(test[i],errors='coerce')\n",
    "print(test.shape)"
   ]
  },
  {
   "cell_type": "code",
   "execution_count": 12,
   "metadata": {},
   "outputs": [],
   "source": [
    "from xgboost import XGBClassifier"
   ]
  },
  {
   "cell_type": "code",
   "execution_count": null,
   "metadata": {},
   "outputs": [],
   "source": []
  },
  {
   "cell_type": "code",
   "execution_count": 13,
   "metadata": {},
   "outputs": [],
   "source": [
    "xgb = XGBClassifier(n_jobs=4,random_state=42)\n",
    "X_train, y_train = train.drop('target_churn_lag1m',axis=1), train['target_churn_lag1m']"
   ]
  },
  {
   "cell_type": "code",
   "execution_count": 14,
   "metadata": {},
   "outputs": [
    {
     "name": "stdout",
     "output_type": "stream",
     "text": [
      "Wall time: 7min 1s\n"
     ]
    },
    {
     "data": {
      "text/plain": [
       "XGBClassifier(base_score=0.5, booster='gbtree', colsample_bylevel=1,\n",
       "       colsample_bynode=1, colsample_bytree=1, gamma=0, learning_rate=0.1,\n",
       "       max_delta_step=0, max_depth=3, min_child_weight=1, missing=None,\n",
       "       n_estimators=100, n_jobs=4, nthread=None,\n",
       "       objective='binary:logistic', random_state=42, reg_alpha=0,\n",
       "       reg_lambda=1, scale_pos_weight=1, seed=None, silent=None,\n",
       "       subsample=1, verbosity=1)"
      ]
     },
     "execution_count": 14,
     "metadata": {},
     "output_type": "execute_result"
    }
   ],
   "source": [
    "%%time\n",
    "xgb.fit(X_train,y_train)"
   ]
  },
  {
   "cell_type": "code",
   "execution_count": 15,
   "metadata": {},
   "outputs": [],
   "source": [
    "prediction = xgb.predict_proba(test)[:,1]"
   ]
  },
  {
   "cell_type": "markdown",
   "metadata": {},
   "source": [
    "Это решение даёт на паблике около 0.75564 ROC AUC\n",
    "\n",
    "Пример файла решения, которое ожидает на вход платформа:"
   ]
  },
  {
   "cell_type": "code",
   "execution_count": 16,
   "metadata": {},
   "outputs": [],
   "source": [
    "sample_submission = pd.DataFrame({'tabnum': test['tabnum'], 'prob': prediction})\n",
    "sample_submission.to_csv('sample_submission.csv')"
   ]
  }
 ],
 "metadata": {
  "kernelspec": {
   "display_name": "Python 3",
   "language": "python",
   "name": "python3"
  },
  "language_info": {
   "codemirror_mode": {
    "name": "ipython",
    "version": 3
   },
   "file_extension": ".py",
   "mimetype": "text/x-python",
   "name": "python",
   "nbconvert_exporter": "python",
   "pygments_lexer": "ipython3",
   "version": "3.7.3"
  }
 },
 "nbformat": 4,
 "nbformat_minor": 2
}
